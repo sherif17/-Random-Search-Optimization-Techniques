{
  "nbformat": 4,
  "nbformat_minor": 0,
  "metadata": {
    "colab": {
      "provenance": [],
      "authorship_tag": "ABX9TyM7s9pLEYouWRdCkzctdckK",
      "include_colab_link": true
    },
    "kernelspec": {
      "name": "python3",
      "display_name": "Python 3"
    },
    "language_info": {
      "name": "python"
    }
  },
  "cells": [
    {
      "cell_type": "markdown",
      "metadata": {
        "id": "view-in-github",
        "colab_type": "text"
      },
      "source": [
        "<a href=\"https://colab.research.google.com/github/sherif17/Random-Search-Optimization-Techniques/blob/main/TSP_NN_Algorithm.ipynb\" target=\"_parent\"><img src=\"https://colab.research.google.com/assets/colab-badge.svg\" alt=\"Open In Colab\"/></a>"
      ]
    },
    {
      "cell_type": "markdown",
      "source": [
        "### **Imports**"
      ],
      "metadata": {
        "id": "vc41-dQNGcC5"
      }
    },
    {
      "cell_type": "code",
      "source": [
        "import numpy as np\n",
        "import csv\n",
        "import math\n",
        "import random"
      ],
      "metadata": {
        "id": "4wlvdg2PTXVN"
      },
      "execution_count": null,
      "outputs": []
    },
    {
      "cell_type": "markdown",
      "source": [
        "### **Custom Data Structure**"
      ],
      "metadata": {
        "id": "IQFBuQlrGnxn"
      }
    },
    {
      "cell_type": "code",
      "source": [
        "class City:\n",
        "    def __init__(self, name, latx, laty):\n",
        "        self.name = name\n",
        "        self.latx = latx\n",
        "        self.laty = laty\n",
        "\n",
        "    def distance(self, city):\n",
        "        x_diff = self.latx - city.latx\n",
        "        y_diff = self.laty - city.laty\n",
        "        return math.sqrt(x_diff**2 + y_diff**2)"
      ],
      "metadata": {
        "id": "SZb28npFWDGk"
      },
      "execution_count": null,
      "outputs": []
    },
    {
      "cell_type": "markdown",
      "source": [
        "### **Helper Functions**"
      ],
      "metadata": {
        "id": "3cGK2_erHAho"
      }
    },
    {
      "cell_type": "code",
      "source": [
        "def generate_distance_matrix(cities):\n",
        "    n = len(cities)\n",
        "    dist_matrix = [[0] * n for i in range(n)]\n",
        "    for i in range(n):\n",
        "        for j in range(i+1, n):\n",
        "            dist_matrix[i][j] = cities[i].distance(cities[j])\n",
        "            dist_matrix[j][i] = dist_matrix[i][j]\n",
        "    return dist_matrix"
      ],
      "metadata": {
        "id": "YERfsrfnSlBc"
      },
      "execution_count": null,
      "outputs": []
    },
    {
      "cell_type": "code",
      "source": [
        "def define_starting_point(cities):\n",
        "    return cities[0]"
      ],
      "metadata": {
        "id": "PuPeeTU3Ssl4"
      },
      "execution_count": null,
      "outputs": []
    },
    {
      "cell_type": "code",
      "source": [
        "def nearest_city(city, cities, visited_cities):\n",
        "    nearest_dist = float('inf')\n",
        "    nearest_city = None\n",
        "    for c in cities:\n",
        "        if c not in visited_cities:\n",
        "            dist = city.distance(c)\n",
        "            if dist < nearest_dist:\n",
        "                nearest_dist = dist\n",
        "                nearest_city = c\n",
        "    return nearest_city"
      ],
      "metadata": {
        "id": "cTzCvqmYS1Og"
      },
      "execution_count": null,
      "outputs": []
    },
    {
      "cell_type": "code",
      "source": [
        "def calculate_cost(path):\n",
        "    cost = 0\n",
        "    for i in range(len(path)-1):\n",
        "        cost += path[i].distance(path[i+1])\n",
        "    cost += path[-1].distance(path[0])\n",
        "    return cost\n"
      ],
      "metadata": {
        "id": "5yzSY2yZTFyf"
      },
      "execution_count": null,
      "outputs": []
    },
    {
      "cell_type": "code",
      "source": [
        "def find_shortest_path(start_city, cities):\n",
        "    path = [start_city]\n",
        "    visited_cities = {start_city}\n",
        "    while len(visited_cities) < len(cities):\n",
        "        current_city = path[-1]\n",
        "        nearestcity = nearest_city(current_city, cities, visited_cities)\n",
        "        path.append(nearestcity)\n",
        "        visited_cities.add(nearestcity)\n",
        "    return path"
      ],
      "metadata": {
        "id": "sBiqxgKKbwEW"
      },
      "execution_count": null,
      "outputs": []
    },
    {
      "cell_type": "code",
      "source": [
        "# read data from CSV file and create list of City objects\n",
        "def model_the_Problem(filename):\n",
        "    cities = []\n",
        "    with open(filename, newline='') as csvfile:\n",
        "        reader = csv.reader(csvfile)\n",
        "        next(reader)  # skip header row\n",
        "        for row in reader:\n",
        "            name = row[2]\n",
        "            latx = float(row[0])\n",
        "            laty = float(row[1])\n",
        "            cities.append(City(name, latx, laty))\n",
        "    return cities"
      ],
      "metadata": {
        "id": "jXCpcT8fdGb2"
      },
      "execution_count": null,
      "outputs": []
    },
    {
      "cell_type": "markdown",
      "source": [
        "### **Reading Dataset**"
      ],
      "metadata": {
        "id": "6OIk4O1aHI_l"
      }
    },
    {
      "cell_type": "code",
      "source": [
        "# example usage\n",
        "filename = '/content/15-Points.csv'\n",
        "cities = model_the_Problem(filename)\n",
        "dist_matrix = generate_distance_matrix(cities)\n",
        "print(dist_matrix)\n"
      ],
      "metadata": {
        "colab": {
          "base_uri": "https://localhost:8080/"
        },
        "id": "6LtOI2rvdQe1",
        "outputId": "91dcdb87-6670-417a-b0d7-70e5b1cef504"
      },
      "execution_count": null,
      "outputs": [
        {
          "output_type": "stream",
          "name": "stdout",
          "text": [
            "[[0, 28.873300055, 82.12952630201973, 45.79853228999801, 68.35015747765597, 52.07763037224974, 72.0787287751013, 42.02118425509025, 51.01660496180007, 54.99985149107376, 28.72962105340484, 74.40947126327858, 22.710147825297707, 72.0053444352255, 45.46281015831159], [28.873300055, 0, 54.77322541501489, 45.65896039765929, 42.02945446630199, 43.21709674460577, 43.20558156915078, 22.769634289783518, 22.831269461154925, 30.618415611434298, 40.63515089340957, 51.10681948022617, 10.390598409359272, 51.90414602531482, 20.33195751158619], [82.12952630201973, 54.77322541501489, 0, 68.27106573725065, 45.67884154332288, 54.76484963158395, 22.75820510045028, 43.25551073609003, 40.721275063692445, 28.70629548548541, 79.49407488435828, 20.412598306928, 64.53727736036282, 30.808909453273415, 51.03909542860257], [45.79853228999801, 45.65896039765929, 68.27106573725065, 0, 82.28891089934294, 14.401837905281393, 72.08048339443044, 30.51648564989095, 62.13119423103745, 42.025427983543494, 20.63515020221954, 50.95841784847721, 51.16833510795911, 42.91122512816431, 64.53535684142453], [68.35015747765597, 42.02945446630199, 45.67884154332288, 82.28891089934294, 0, 74.25389314675697, 22.92069009063996, 52.130339835646566, 20.358579404342038, 45.73414736190017, 82.08402544504844, 57.9616931169199, 45.640079177061025, 65.5431036753677, 22.88735150361439], [52.07763037224974, 43.21709674460577, 54.76484963158395, 14.401837905281393, 74.25389314675697, 0, 61.10753794545287, 22.70224944471363, 54.93979813631372, 30.515913275043896, 32.34820296380868, 36.73154730269337, 51.098493604942995, 28.51022015435868, 59.44634845387898], [72.0787287751013, 43.20558156915078, 22.75820510045028, 72.08048339443044, 22.92069009063996, 61.10753794545287, 0, 42.11940302766127, 22.763969281659143, 30.59175084149257, 77.5344335741477, 36.91232955456159, 51.081360373720685, 45.79179667207612, 32.37410225275693], [42.02118425509025, 22.769634289783518, 43.25551073609003, 30.51648564989095, 52.130339835646566, 22.70224944471363, 42.11940302766127, 0, 32.38730180735808, 14.549321997261593, 36.59918969116613, 32.44497034980923, 32.38017953341828, 30.525324352412703, 36.84582256443734], [51.01660496180007, 22.831269461154925, 40.721275063692445, 62.13119423103745, 20.358579404342038, 54.93979813631372, 22.763969281659143, 32.38730180735808, 0, 28.962860693289603, 61.95239559616126, 45.82684536841806, 28.982552281545185, 51.118842308046254, 10.318773936321119], [54.99985149107376, 30.618415611434298, 28.70629548548541, 42.025427983543494, 45.73414736190017, 30.515913275043896, 30.59175084149257, 14.549321997261593, 28.962860693289603, 0, 50.952978147666315, 20.48842748919497, 41.009010812556795, 22.760032284687117, 36.916191594068856], [28.72962105340484, 40.63515089340957, 79.49407488435828, 20.63515020221954, 82.08402544504844, 32.34820296380868, 77.5344335741477, 36.59918969116613, 61.95239559616126, 50.952978147666315, 0, 65.3634437185646, 41.90305249159971, 59.24022259960002, 60.966033255828286], [74.40947126327858, 51.10681948022617, 20.412598306928, 50.95841784847721, 57.9616931169199, 36.73154730269337, 36.91232955456159, 32.44497034980923, 45.82684536841806, 20.48842748919497, 65.3634437185646, 0, 61.49740547190914, 10.401326935540487, 55.198204090803536], [22.710147825297707, 10.390598409359272, 64.53727736036282, 51.16833510795911, 45.640079177061025, 51.098493604942995, 51.081360373720685, 32.38017953341828, 28.982552281545185, 41.009010812556795, 41.90305249159971, 61.49740547190914, 0, 62.11602594307205, 22.7527792727482], [72.0053444352255, 51.90414602531482, 30.808909453273415, 42.91122512816431, 65.5431036753677, 28.51022015435868, 45.79179667207612, 30.525324352412703, 51.118842308046254, 22.760032284687117, 59.24022259960002, 10.401326935540487, 62.11602594307205, 0, 59.595944248329516], [45.46281015831159, 20.33195751158619, 51.03909542860257, 64.53535684142453, 22.88735150361439, 59.44634845387898, 32.37410225275693, 36.84582256443734, 10.318773936321119, 36.916191594068856, 60.966033255828286, 55.198204090803536, 22.7527792727482, 59.595944248329516, 0]]\n"
          ]
        }
      ]
    },
    {
      "cell_type": "code",
      "source": [
        "start_city = define_starting_point(cities)\n",
        "path = find_shortest_path(start_city, cities)\n",
        "print([c.name for c in path])\n",
        "print(calculate_cost(path))"
      ],
      "metadata": {
        "colab": {
          "base_uri": "https://localhost:8080/"
        },
        "id": "p5POuZ2QbzkA",
        "outputId": "dfb120ab-6284-45dc-b472-3420a11b5a01"
      },
      "execution_count": null,
      "outputs": [
        {
          "output_type": "stream",
          "name": "stdout",
          "text": [
            "['1', '13', '2', '15', '9', '5', '7', '3', '12', '14', '10', '8', '6', '4', '11']\n",
            "284.3810904080332\n"
          ]
        }
      ]
    },
    {
      "cell_type": "markdown",
      "source": [
        "### **Visualizing**"
      ],
      "metadata": {
        "id": "_bl_2egLHPR_"
      }
    },
    {
      "cell_type": "code",
      "source": [
        "import matplotlib.pyplot as plt\n",
        "# plot the path on a map\n",
        "fig, ax = plt.subplots()\n",
        "for city in cities:\n",
        "    ax.plot(city.latx, city.laty, 'bo')\n",
        "    ax.text(city.latx, city.laty, city.name) \n",
        "for i in range(len(path)-1):\n",
        "    ax.plot([path[i].latx, path[i+1].latx], [path[i].laty, path[i+1].laty], 'r')\n",
        "ax.plot([path[-1].latx, path[0].latx], [path[-1].laty, path[0].laty], 'r')\n",
        "ax.set_title('TSP Path')\n",
        "ax.set_xlabel('Latitude X')\n",
        "ax.set_ylabel('Latitude Y')\n",
        "plt.show()"
      ],
      "metadata": {
        "colab": {
          "base_uri": "https://localhost:8080/",
          "height": 295
        },
        "id": "r7tfj1DOeSJi",
        "outputId": "2ff12bda-493c-407c-fbee-de0db4c97f9d"
      },
      "execution_count": null,
      "outputs": [
        {
          "output_type": "display_data",
          "data": {
            "text/plain": [
              "<Figure size 432x288 with 1 Axes>"
            ],
            "image/png": "[encoded data removed]"
          },
          "metadata": {
            "needs_background": "light"
          }
        }
      ]
    }
  ]
}